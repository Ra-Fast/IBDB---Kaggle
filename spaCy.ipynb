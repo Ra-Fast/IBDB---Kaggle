{
 "cells": [
  {
   "cell_type": "markdown",
   "metadata": {},
   "source": [
    "**Crear entorno virtual en consola:**\n",
    "\n",
    "_python -m venv venv_\n",
    "\n",
    "**Activar entorno virtual en consola:**\n",
    "\n",
    "_.\\venv\\Scripts\\activate.ps1_\n",
    "\n",
    "**Desactivar entorno virtual en consola:**\n",
    "\n",
    "_deactivate_\n",
    "\n",
    "**Instalar librerias necesarias:**\n",
    "\n",
    "Utilizando CPU:\n",
    "_pip install spacy_"
   ]
  },
  {
   "cell_type": "markdown",
   "metadata": {},
   "source": [
    "## Instalación"
   ]
  },
  {
   "cell_type": "code",
   "execution_count": null,
   "metadata": {},
   "outputs": [],
   "source": [
    "# https://spacy.io/usage\n",
    "\n",
    "# pip install spacy\n",
    "# python -m spacy download es_core_news_sm"
   ]
  },
  {
   "cell_type": "markdown",
   "metadata": {},
   "source": [
    "### Comprobar GPU, y version de CUDA (si disponible)"
   ]
  },
  {
   "cell_type": "code",
   "execution_count": 34,
   "metadata": {},
   "outputs": [
    {
     "name": "stdout",
     "output_type": "stream",
     "text": [
      "NVIDIA Graphics Card Driver:  Fri Jun 24 01:59:10 2022       \n",
      "+-----------------------------------------------------------------------------+\n",
      "| NVIDIA-SMI 512.59       Driver Version: 512.59       CUDA Version: 11.6     |\n",
      "|-------------------------------+----------------------+----------------------+\n",
      "| GPU  Name            TCC/WDDM | Bus-Id        Disp.A | Volatile Uncorr. ECC |\n",
      "| Fan  Temp  Perf  Pwr:Usage/Cap|         Memory-Usage | GPU-Util  Compute M. |\n",
      "|                               |                      |               MIG M. |\n",
      "|===============================+======================+======================|\n",
      "|   0  NVIDIA GeForce ... WDDM  | 00000000:01:00.0  On |                  N/A |\n",
      "| N/A   52C    P8    10W /  N/A |   1178MiB /  8192MiB |     31%      Default |\n",
      "|                               |                      |                  N/A |\n",
      "+-------------------------------+----------------------+----------------------+\n",
      "                                                                    \n",
      "CUDA version:  nvcc: NVIDIA (R) Cuda compiler driver\n",
      "Copyright (c) 2005-2021 NVIDIA Corporation\n",
      "Built on Sun_Feb_14_22:08:44_Pacific_Standard_Time_2021\n",
      "Cuda compilation tools, release 11.2, V11.2.152\n",
      "Build cuda_11.2.r11.2/compiler.29618528_0 \n",
      "\n"
     ]
    }
   ],
   "source": [
    "import subprocess\n",
    "\n",
    "print(\"NVIDIA Graphics Card Driver: \", subprocess.getoutput(\"nvidia-smi\")[:980])\n",
    "print(\"CUDA version: \", subprocess.getoutput(\"nvcc --version\"), \"\\n\")"
   ]
  },
  {
   "cell_type": "markdown",
   "metadata": {},
   "source": [
    "### Compatibilidad con Tensorflow"
   ]
  },
  {
   "cell_type": "code",
   "execution_count": null,
   "metadata": {},
   "outputs": [],
   "source": [
    "# import subprocess\n",
    "# import tensorflow as tf\n",
    "\n",
    "# def get_cuda_info():\n",
    "#     print(\"NVIDIA Graphics Card Driver: \", subprocess.getoutput(\"nvidia-smi\")[:980])\n",
    "#     print(\"CUDA version: \", subprocess.getoutput(\"nvcc --version\"), \"\\n\")\n",
    "\n",
    "# def get_tf_info():\n",
    "#     print(subprocess.getoutput(\"pip show tensorflow\"), \"\\n\")\n",
    "\n",
    "# def check_compatibility():\n",
    "#     print(tf.config.list_physical_devices('GPU'))"
   ]
  },
  {
   "cell_type": "markdown",
   "metadata": {},
   "source": [
    "### Compatibilidad con Pytorch"
   ]
  },
  {
   "cell_type": "code",
   "execution_count": null,
   "metadata": {},
   "outputs": [],
   "source": [
    "# import subprocess\n",
    "# import torch\n",
    "\n",
    "# def get_cuda_info():\n",
    "#     print(\"NVIDIA Graphics Card Driver: \", subprocess.getoutput(\"nvidia-smi\")[:980])\n",
    "#     print(\"CUDA version: \", subprocess.getoutput(\"nvcc --version\"), \"\\n\")\n",
    "\n",
    "# def get_torch_info():\n",
    "#     print(subprocess.getoutput(\"pip show torch\"), \"\\n\")\n",
    "\n",
    "# def get_device(show_info = True):\n",
    "#     if torch.cuda.is_available():    \n",
    "#         device = torch.device(\"cuda\")\n",
    "\n",
    "#         if show_info:\n",
    "#             print('There are %d GPU(s) available.' % torch.cuda.device_count())\n",
    "#             print('We will use the GPU:', torch.cuda.get_device_name(0))\n",
    "\n",
    "#     else:\n",
    "#         device = torch.device(\"cpu\")\n",
    "\n",
    "#         if show_info:\n",
    "#             print('No GPU available, using the CPU instead.')\n",
    "\n",
    "#     return device"
   ]
  },
  {
   "cell_type": "markdown",
   "metadata": {},
   "source": [
    "## spaCy Pipeline"
   ]
  },
  {
   "cell_type": "markdown",
   "metadata": {},
   "source": [
    "### Introducción"
   ]
  },
  {
   "cell_type": "code",
   "execution_count": 2,
   "metadata": {},
   "outputs": [],
   "source": [
    "# https://spacy.io/usage/spacy-101"
   ]
  },
  {
   "cell_type": "code",
   "execution_count": 38,
   "metadata": {},
   "outputs": [
    {
     "name": "stdout",
     "output_type": "stream",
     "text": [
      "[('tok2vec', <spacy.pipeline.tok2vec.Tok2Vec object at 0x0000014E931F3820>), ('morphologizer', <spacy.pipeline.morphologizer.Morphologizer object at 0x0000014F9714DBE0>), ('parser', <spacy.pipeline.dep_parser.DependencyParser object at 0x0000014E9BA32580>), ('attribute_ruler', <spacy.pipeline.attributeruler.AttributeRuler object at 0x0000014F97949540>), ('lemmatizer', <spacy.lang.es.lemmatizer.SpanishLemmatizer object at 0x0000014E97CBF540>), ('ner', <spacy.pipeline.ner.EntityRecognizer object at 0x0000014E9BA32970>)]\n",
      "['tok2vec', 'morphologizer', 'parser', 'attribute_ruler', 'lemmatizer', 'ner']\n"
     ]
    }
   ],
   "source": [
    "import spacy\n",
    "\n",
    "nlp = spacy.load(\"es_core_news_sm\")\n",
    "\n",
    "print(nlp.pipeline)\n",
    "print(nlp.pipe_names)\n",
    "\n",
    "# https://spacy.io/usage/processing-pipelines#built-in"
   ]
  },
  {
   "cell_type": "code",
   "execution_count": 36,
   "metadata": {},
   "outputs": [
    {
     "name": "stdout",
     "output_type": "stream",
     "text": [
      "Esto este PRON PRON nsubj Xxxx True True\n",
      "es ser AUX AUX cop xx True True\n",
      "una uno DET DET det xxx True True\n",
      "frase frase NOUN NOUN ROOT xxxx True False\n",
      ". . PUNCT PUNCT punct . False False\n"
     ]
    }
   ],
   "source": [
    "doc = nlp(\"Esto es una frase.\")\n",
    "for token in doc:\n",
    "    print(token.text, token.lemma_, token.pos_, token.tag_, token.dep_, token.shape_, token.is_alpha, token.is_stop)"
   ]
  },
  {
   "cell_type": "code",
   "execution_count": 19,
   "metadata": {},
   "outputs": [
    {
     "name": "stdout",
     "output_type": "stream",
     "text": [
      "tok2vec\n",
      "Esto     Xxxx True True\n",
      "morphologizer\n",
      "Esto  PRON   Xxxx True True\n",
      "parser\n",
      "Esto  PRON  nsubj Xxxx True True\n",
      "attribute_ruler\n",
      "Esto  PRON PRON nsubj Xxxx True True\n",
      "lemmatizer\n",
      "Esto este PRON PRON nsubj Xxxx True True\n",
      "ner\n",
      "Esto este PRON PRON nsubj Xxxx True True\n"
     ]
    }
   ],
   "source": [
    "doc = nlp.make_doc(\"Esto es una frase.\")\n",
    "for name, proc in nlp.pipeline:\n",
    "    print(name)\n",
    "    doc = proc(doc)\n",
    "    token = next(iter(doc))\n",
    "    print(token.text, token.lemma_, token.pos_, token.tag_, token.dep_, token.shape_, token.is_alpha, token.is_stop)\n",
    "\n",
    "# tok2vec: Assign token-to-vector embeddings.\n",
    "# morphologizer : Assign morphological features and coarse-grained POS tags.\n",
    "# parser: Assign dependency labels."
   ]
  },
  {
   "cell_type": "code",
   "execution_count": 21,
   "metadata": {},
   "outputs": [
    {
     "name": "stdout",
     "output_type": "stream",
     "text": [
      "Esta es la primera frase.\n",
      "Y esta es la segunda\n"
     ]
    }
   ],
   "source": [
    "textos=[\"Esta es la primera frase.\", \"Y esta es la segunda\"]\n",
    "\n",
    "for doc in nlp.pipe(textos):\n",
    "    print(doc)"
   ]
  },
  {
   "cell_type": "markdown",
   "metadata": {},
   "source": [
    "### Habilitar, deshabilitar y seleccionar componentes"
   ]
  },
  {
   "cell_type": "code",
   "execution_count": 38,
   "metadata": {},
   "outputs": [
    {
     "name": "stdout",
     "output_type": "stream",
     "text": [
      "['tok2vec', 'morphologizer', 'parser', 'attribute_ruler', 'lemmatizer', 'ner']\n",
      "['tok2vec', 'morphologizer', 'parser', 'attribute_ruler', 'lemmatizer']\n",
      "['tok2vec', 'morphologizer', 'parser', 'attribute_ruler', 'lemmatizer', 'ner']\n"
     ]
    }
   ],
   "source": [
    "nlp = spacy.load(\"es_core_news_sm\")\n",
    "print(nlp.pipe_names)\n",
    "\n",
    "nlp = spacy.load(\"es_core_news_sm\", exclude=[\"ner\"])\n",
    "print(nlp.pipe_names)\n",
    "\n",
    "nlp = spacy.load(\"es_core_news_sm\", disable=[\"ner\"])\n",
    "nlp.enable_pipe(\"ner\")\n",
    "print(nlp.pipe_names)"
   ]
  },
  {
   "cell_type": "code",
   "execution_count": 37,
   "metadata": {},
   "outputs": [
    {
     "name": "stdout",
     "output_type": "stream",
     "text": [
      "['tok2vec', 'morphologizer']\n",
      "['tok2vec', 'morphologizer', 'parser', 'attribute_ruler', 'lemmatizer', 'ner']\n"
     ]
    }
   ],
   "source": [
    "nlp = spacy.load(\"es_core_news_sm\")\n",
    "disabled = nlp.select_pipes(enable=[\"tok2vec\", \"morphologizer\"])\n",
    "print(nlp.pipe_names)\n",
    "\n",
    "disabled.restore()\n",
    "print(nlp.pipe_names)"
   ]
  },
  {
   "cell_type": "markdown",
   "metadata": {},
   "source": [
    "### Tokenización"
   ]
  },
  {
   "cell_type": "code",
   "execution_count": 4,
   "metadata": {},
   "outputs": [
    {
     "name": "stdout",
     "output_type": "stream",
     "text": [
      "Londres\n",
      "se\n",
      "encuentra\n",
      "en\n",
      "U.K.\n"
     ]
    }
   ],
   "source": [
    "nlp = spacy.load(\"es_core_news_sm\")\n",
    "\n",
    "doc = nlp(\"Londres se encuentra en U.K.\")\n",
    "for token in doc:\n",
    "    print(token.text)\n",
    "\n",
    "# https://spacy.io/usage/spacy-101#annotations-token"
   ]
  },
  {
   "cell_type": "markdown",
   "metadata": {},
   "source": [
    "### Tags de POS y dependencias"
   ]
  },
  {
   "cell_type": "code",
   "execution_count": 7,
   "metadata": {},
   "outputs": [
    {
     "name": "stdout",
     "output_type": "stream",
     "text": [
      "El el DET DET det Xx True True\n",
      "perro perro PROPN PROPN nsubj xxxx True False\n",
      "come comar VERB VERB ROOT xxxx True False\n",
      "su su DET DET det xx True True\n",
      "comida comida NOUN NOUN obj xxxx True False\n"
     ]
    }
   ],
   "source": [
    "doc = nlp(\"El perro come su comida\")\n",
    "\n",
    "for token in doc:\n",
    "    print(token.text, token.lemma_, token.pos_, token.tag_, token.dep_, token.shape_, token.is_alpha, token.is_stop)"
   ]
  },
  {
   "cell_type": "markdown",
   "metadata": {},
   "source": [
    "### NER"
   ]
  },
  {
   "cell_type": "code",
   "execution_count": 14,
   "metadata": {},
   "outputs": [
    {
     "name": "stdout",
     "output_type": "stream",
     "text": [
      "Sundar Pichai 0 13 PER\n",
      "Alphabet Inc 42 54 ORG\n",
      "en Estados Unidos 63 80 LOC\n"
     ]
    }
   ],
   "source": [
    "doc = nlp(\"Sundar Pichai es el director ejecutivo de Alphabet Inc, y vive en Estados Unidos\")\n",
    "\n",
    "for ent in doc.ents:\n",
    "    print(ent.text, ent.start_char, ent.end_char, ent.label_)"
   ]
  },
  {
   "cell_type": "markdown",
   "metadata": {},
   "source": [
    "### Word Embeddings y Similaridad"
   ]
  },
  {
   "cell_type": "code",
   "execution_count": null,
   "metadata": {},
   "outputs": [],
   "source": [
    "# !python -m spacy download es_core_news_lg"
   ]
  },
  {
   "cell_type": "code",
   "execution_count": 26,
   "metadata": {},
   "outputs": [
    {
     "name": "stdout",
     "output_type": "stream",
     "text": [
      "perro True 32.17176 False\n",
      "gato True 35.150936 False\n",
      "banana True 18.258509 False\n",
      "afskfsd False 0.0 True\n"
     ]
    }
   ],
   "source": [
    "nlp = spacy.load(\"es_core_news_lg\")\n",
    "doc = nlp(\"perro gato banana afskfsd\")\t\n",
    "\n",
    "for token in doc:\n",
    "    print(token.text, token.has_vector, token.vector_norm, token.is_oov)\n",
    "\n",
    "# print(next(iter(doc)).vector)"
   ]
  },
  {
   "cell_type": "code",
   "execution_count": 29,
   "metadata": {},
   "outputs": [
    {
     "name": "stdout",
     "output_type": "stream",
     "text": [
      "Me gustan las hamburguesas <-> Ayer comí panchos con queso 0.2322320265491657\n",
      "Me gustan las hamburguesas <-> Ayer tomé un daikiri 0.0053885496820099245\n"
     ]
    }
   ],
   "source": [
    "doc1 = nlp(\"Me gustan las hamburguesas\")\n",
    "doc2 = nlp(\"Ayer comí panchos con queso\")\n",
    "doc3 = nlp(\"Ayer tomé un daikiri\")\n",
    "\n",
    "print(doc1, \"<->\", doc2, doc1.similarity(doc2))\n",
    "print(doc1, \"<->\", doc3, doc1.similarity(doc3))"
   ]
  },
  {
   "cell_type": "code",
   "execution_count": 32,
   "metadata": {},
   "outputs": [
    {
     "name": "stdout",
     "output_type": "stream",
     "text": [
      "perro <-> gato 0.8487286452393603\n",
      "perro <-> pez 0.42226599731024445\n",
      "perro <-> avion 0.10443127598489513\n"
     ]
    }
   ],
   "source": [
    "doc1 = nlp(\"perro\")\n",
    "doc2 = nlp(\"gato\")\n",
    "doc3 = nlp(\"pez\")\n",
    "doc4 = nlp(\"avion\")\n",
    "\n",
    "print(doc1, \"<->\", doc2, doc1.similarity(doc2))\n",
    "print(doc1, \"<->\", doc3, doc1.similarity(doc3))\n",
    "print(doc1, \"<->\", doc4, doc1.similarity(doc4))"
   ]
  },
  {
   "cell_type": "code",
   "execution_count": null,
   "metadata": {},
   "outputs": [],
   "source": [
    "# !python -m spacy download en_core_web_lg"
   ]
  },
  {
   "cell_type": "code",
   "execution_count": 33,
   "metadata": {},
   "outputs": [
    {
     "name": "stdout",
     "output_type": "stream",
     "text": [
      "I like salty fries and hamburgers. <-> Fast food tastes very good. 0.7687607012190486\n"
     ]
    }
   ],
   "source": [
    "nlp = spacy.load(\"en_core_web_lg\")\n",
    "doc1 = nlp(\"I like salty fries and hamburgers.\")\n",
    "doc2 = nlp(\"Fast food tastes very good.\")\n",
    "\n",
    "print(doc1, \"<->\", doc2, doc1.similarity(doc2))"
   ]
  },
  {
   "cell_type": "markdown",
   "metadata": {},
   "source": [
    "## DisplaCy"
   ]
  },
  {
   "cell_type": "markdown",
   "metadata": {},
   "source": [
    "### Dependency parsing"
   ]
  },
  {
   "cell_type": "code",
   "execution_count": 41,
   "metadata": {},
   "outputs": [
    {
     "data": {
      "text/html": [
       "<span class=\"tex2jax_ignore\"><svg xmlns=\"http://www.w3.org/2000/svg\" xmlns:xlink=\"http://www.w3.org/1999/xlink\" xml:lang=\"es\" id=\"423229c0c99047ef9cb331de36fa9099-0\" class=\"displacy\" width=\"770\" height=\"317.0\" direction=\"ltr\" style=\"max-width: none; height: 317.0px; color: #000000; background: #ffffff; font-family: Arial; direction: ltr\">\n",
       "<text class=\"displacy-token\" fill=\"currentColor\" text-anchor=\"middle\" y=\"227.0\">\n",
       "    <tspan class=\"displacy-word\" fill=\"currentColor\" x=\"50\">El</tspan>\n",
       "    <tspan class=\"displacy-tag\" dy=\"2em\" fill=\"currentColor\" x=\"50\">DET</tspan>\n",
       "</text>\n",
       "\n",
       "<text class=\"displacy-token\" fill=\"currentColor\" text-anchor=\"middle\" y=\"227.0\">\n",
       "    <tspan class=\"displacy-word\" fill=\"currentColor\" x=\"170\">perro</tspan>\n",
       "    <tspan class=\"displacy-tag\" dy=\"2em\" fill=\"currentColor\" x=\"170\">PROPN</tspan>\n",
       "</text>\n",
       "\n",
       "<text class=\"displacy-token\" fill=\"currentColor\" text-anchor=\"middle\" y=\"227.0\">\n",
       "    <tspan class=\"displacy-word\" fill=\"currentColor\" x=\"290\">come</tspan>\n",
       "    <tspan class=\"displacy-tag\" dy=\"2em\" fill=\"currentColor\" x=\"290\">VERB</tspan>\n",
       "</text>\n",
       "\n",
       "<text class=\"displacy-token\" fill=\"currentColor\" text-anchor=\"middle\" y=\"227.0\">\n",
       "    <tspan class=\"displacy-word\" fill=\"currentColor\" x=\"410\">su</tspan>\n",
       "    <tspan class=\"displacy-tag\" dy=\"2em\" fill=\"currentColor\" x=\"410\">DET</tspan>\n",
       "</text>\n",
       "\n",
       "<text class=\"displacy-token\" fill=\"currentColor\" text-anchor=\"middle\" y=\"227.0\">\n",
       "    <tspan class=\"displacy-word\" fill=\"currentColor\" x=\"530\">comida</tspan>\n",
       "    <tspan class=\"displacy-tag\" dy=\"2em\" fill=\"currentColor\" x=\"530\">NOUN</tspan>\n",
       "</text>\n",
       "\n",
       "<text class=\"displacy-token\" fill=\"currentColor\" text-anchor=\"middle\" y=\"227.0\">\n",
       "    <tspan class=\"displacy-word\" fill=\"currentColor\" x=\"650\">.</tspan>\n",
       "    <tspan class=\"displacy-tag\" dy=\"2em\" fill=\"currentColor\" x=\"650\">PUNCT</tspan>\n",
       "</text>\n",
       "\n",
       "<g class=\"displacy-arrow\">\n",
       "    <path class=\"displacy-arc\" id=\"arrow-423229c0c99047ef9cb331de36fa9099-0-0\" stroke-width=\"2px\" d=\"M70,182.0 C70,122.0 160.0,122.0 160.0,182.0\" fill=\"none\" stroke=\"currentColor\"/>\n",
       "    <text dy=\"1.25em\" style=\"font-size: 0.8em; letter-spacing: 1px\">\n",
       "        <textPath xlink:href=\"#arrow-423229c0c99047ef9cb331de36fa9099-0-0\" class=\"displacy-label\" startOffset=\"50%\" side=\"left\" fill=\"currentColor\" text-anchor=\"middle\">det</textPath>\n",
       "    </text>\n",
       "    <path class=\"displacy-arrowhead\" d=\"M70,184.0 L62,172.0 78,172.0\" fill=\"currentColor\"/>\n",
       "</g>\n",
       "\n",
       "<g class=\"displacy-arrow\">\n",
       "    <path class=\"displacy-arc\" id=\"arrow-423229c0c99047ef9cb331de36fa9099-0-1\" stroke-width=\"2px\" d=\"M190,182.0 C190,122.0 280.0,122.0 280.0,182.0\" fill=\"none\" stroke=\"currentColor\"/>\n",
       "    <text dy=\"1.25em\" style=\"font-size: 0.8em; letter-spacing: 1px\">\n",
       "        <textPath xlink:href=\"#arrow-423229c0c99047ef9cb331de36fa9099-0-1\" class=\"displacy-label\" startOffset=\"50%\" side=\"left\" fill=\"currentColor\" text-anchor=\"middle\">nsubj</textPath>\n",
       "    </text>\n",
       "    <path class=\"displacy-arrowhead\" d=\"M190,184.0 L182,172.0 198,172.0\" fill=\"currentColor\"/>\n",
       "</g>\n",
       "\n",
       "<g class=\"displacy-arrow\">\n",
       "    <path class=\"displacy-arc\" id=\"arrow-423229c0c99047ef9cb331de36fa9099-0-2\" stroke-width=\"2px\" d=\"M430,182.0 C430,122.0 520.0,122.0 520.0,182.0\" fill=\"none\" stroke=\"currentColor\"/>\n",
       "    <text dy=\"1.25em\" style=\"font-size: 0.8em; letter-spacing: 1px\">\n",
       "        <textPath xlink:href=\"#arrow-423229c0c99047ef9cb331de36fa9099-0-2\" class=\"displacy-label\" startOffset=\"50%\" side=\"left\" fill=\"currentColor\" text-anchor=\"middle\">det</textPath>\n",
       "    </text>\n",
       "    <path class=\"displacy-arrowhead\" d=\"M430,184.0 L422,172.0 438,172.0\" fill=\"currentColor\"/>\n",
       "</g>\n",
       "\n",
       "<g class=\"displacy-arrow\">\n",
       "    <path class=\"displacy-arc\" id=\"arrow-423229c0c99047ef9cb331de36fa9099-0-3\" stroke-width=\"2px\" d=\"M310,182.0 C310,62.0 525.0,62.0 525.0,182.0\" fill=\"none\" stroke=\"currentColor\"/>\n",
       "    <text dy=\"1.25em\" style=\"font-size: 0.8em; letter-spacing: 1px\">\n",
       "        <textPath xlink:href=\"#arrow-423229c0c99047ef9cb331de36fa9099-0-3\" class=\"displacy-label\" startOffset=\"50%\" side=\"left\" fill=\"currentColor\" text-anchor=\"middle\">obj</textPath>\n",
       "    </text>\n",
       "    <path class=\"displacy-arrowhead\" d=\"M525.0,184.0 L533.0,172.0 517.0,172.0\" fill=\"currentColor\"/>\n",
       "</g>\n",
       "\n",
       "<g class=\"displacy-arrow\">\n",
       "    <path class=\"displacy-arc\" id=\"arrow-423229c0c99047ef9cb331de36fa9099-0-4\" stroke-width=\"2px\" d=\"M310,182.0 C310,2.0 650.0,2.0 650.0,182.0\" fill=\"none\" stroke=\"currentColor\"/>\n",
       "    <text dy=\"1.25em\" style=\"font-size: 0.8em; letter-spacing: 1px\">\n",
       "        <textPath xlink:href=\"#arrow-423229c0c99047ef9cb331de36fa9099-0-4\" class=\"displacy-label\" startOffset=\"50%\" side=\"left\" fill=\"currentColor\" text-anchor=\"middle\">punct</textPath>\n",
       "    </text>\n",
       "    <path class=\"displacy-arrowhead\" d=\"M650.0,184.0 L658.0,172.0 642.0,172.0\" fill=\"currentColor\"/>\n",
       "</g>\n",
       "</svg></span>"
      ],
      "text/plain": [
       "<IPython.core.display.HTML object>"
      ]
     },
     "metadata": {},
     "output_type": "display_data"
    }
   ],
   "source": [
    "import spacy\n",
    "from spacy import displacy\n",
    "\n",
    "nlp = spacy.load(\"es_core_news_sm\")\n",
    "doc = nlp(\"El perro come su comida.\")\n",
    "\n",
    "options = { \"compact\": False,\n",
    "            \"distance\": 120,\n",
    "            \"fine_grained\": True,\n",
    "            \"collapse_punct\": False,\n",
    "            \"add_lemma\": False,\n",
    "            }\n",
    "\n",
    "displacy.render(doc, style=\"dep\", options=options)"
   ]
  },
  {
   "cell_type": "markdown",
   "metadata": {},
   "source": [
    "### NER tagging"
   ]
  },
  {
   "cell_type": "code",
   "execution_count": 12,
   "metadata": {},
   "outputs": [
    {
     "data": {
      "text/html": [
       "<span class=\"tex2jax_ignore\"><div class=\"entities\" style=\"line-height: 2.5; direction: ltr\">\n",
       "<mark class=\"entity\" style=\"background: #ddd; padding: 0.45em 0.6em; margin: 0 0.25em; line-height: 1; border-radius: 0.35em;\">\n",
       "    Sundar Pichai\n",
       "    <span style=\"font-size: 0.8em; font-weight: bold; line-height: 1; border-radius: 0.35em; vertical-align: middle; margin-left: 0.5rem\">PER</span>\n",
       "</mark>\n",
       " es el director ejecutivo de \n",
       "<mark class=\"entity\" style=\"background: #7aecec; padding: 0.45em 0.6em; margin: 0 0.25em; line-height: 1; border-radius: 0.35em;\">\n",
       "    Alphabet Inc\n",
       "    <span style=\"font-size: 0.8em; font-weight: bold; line-height: 1; border-radius: 0.35em; vertical-align: middle; margin-left: 0.5rem\">ORG</span>\n",
       "</mark>\n",
       ", y vive \n",
       "<mark class=\"entity\" style=\"background: #ff9561; padding: 0.45em 0.6em; margin: 0 0.25em; line-height: 1; border-radius: 0.35em;\">\n",
       "    en Estados Unidos\n",
       "    <span style=\"font-size: 0.8em; font-weight: bold; line-height: 1; border-radius: 0.35em; vertical-align: middle; margin-left: 0.5rem\">LOC</span>\n",
       "</mark>\n",
       "</div></span>"
      ],
      "text/plain": [
       "<IPython.core.display.HTML object>"
      ]
     },
     "metadata": {},
     "output_type": "display_data"
    }
   ],
   "source": [
    "nlp = spacy.load(\"es_core_news_sm\")\n",
    "doc = nlp(\"Sundar Pichai es el director ejecutivo de Alphabet Inc, y vive en Estados Unidos\")\n",
    "\n",
    "displacy.render(doc, style=\"ent\")"
   ]
  },
  {
   "cell_type": "markdown",
   "metadata": {},
   "source": [
    "### Universal Dependencies"
   ]
  },
  {
   "cell_type": "code",
   "execution_count": null,
   "metadata": {},
   "outputs": [],
   "source": [
    "# !pip install stanza spacy_stanza"
   ]
  },
  {
   "cell_type": "code",
   "execution_count": null,
   "metadata": {},
   "outputs": [],
   "source": [
    "# # https://spacy.io/universe/project/spacy-stanza\n",
    "# import stanza\n",
    "# import spacy_stanza\n",
    "# from spacy import displacy\n",
    "\n",
    "# stanza.download(lang=\"en\", model_dir=\"./stanza_models\")"
   ]
  },
  {
   "cell_type": "code",
   "execution_count": null,
   "metadata": {},
   "outputs": [],
   "source": [
    "# nlp = spacy_stanza.load_pipeline(name=\"en\", dir=\"./stanza_models\")\n",
    "# doc = nlp(\"Rats are various medium-sized, long-tailed rodents.\")\n",
    "# options = { \"compact\": True,\n",
    "#             \"distance\": 120,\n",
    "#             \"fine_grained\": True,\n",
    "#             \"collapse_punct\": False,\n",
    "#             \"add_lemma\": True,\n",
    "#             }\n",
    "# displacy.render(doc, style=\"dep\", options=options)"
   ]
  }
 ],
 "metadata": {
  "kernelspec": {
   "display_name": "Python 3.9.9 ('venv': venv)",
   "language": "python",
   "name": "python3"
  },
  "language_info": {
   "codemirror_mode": {
    "name": "ipython",
    "version": 3
   },
   "file_extension": ".py",
   "mimetype": "text/x-python",
   "name": "python",
   "nbconvert_exporter": "python",
   "pygments_lexer": "ipython3",
   "version": "3.9.9"
  },
  "orig_nbformat": 4,
  "vscode": {
   "interpreter": {
    "hash": "1b920d8c4bcbfbfc77f1116c411fe245b74c02d87b4b5847103614e85428fc33"
   }
  }
 },
 "nbformat": 4,
 "nbformat_minor": 2
}
