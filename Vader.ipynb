{
 "cells": [
  {
   "cell_type": "code",
   "execution_count": 1,
   "metadata": {},
   "outputs": [],
   "source": [
    "import pandas as pd\n",
    "import nltk\n",
    "from nltk.sentiment.vader import SentimentIntensityAnalyzer\n",
    "from tqdm import tqdm\n",
    "from sklearn.metrics import accuracy_score, precision_score, recall_score, f1_score, confusion_matrix, classification_report"
   ]
  },
  {
   "cell_type": "code",
   "execution_count": 2,
   "metadata": {},
   "outputs": [
    {
     "name": "stderr",
     "output_type": "stream",
     "text": [
      "[nltk_data] Downloading package vader_lexicon to\n",
      "[nltk_data]     C:\\Users\\rafae\\AppData\\Roaming\\nltk_data...\n",
      "[nltk_data]   Package vader_lexicon is already up-to-date!\n"
     ]
    },
    {
     "data": {
      "text/plain": [
       "True"
      ]
     },
     "execution_count": 2,
     "metadata": {},
     "output_type": "execute_result"
    }
   ],
   "source": [
    "# Descargar el lexicón de VADER\n",
    "nltk.download('vader_lexicon')"
   ]
  },
  {
   "cell_type": "code",
   "execution_count": 3,
   "metadata": {},
   "outputs": [],
   "source": [
    "# Inicializar el analizador de sentimiento de VADER\n",
    "sia = SentimentIntensityAnalyzer()"
   ]
  },
  {
   "cell_type": "code",
   "execution_count": 4,
   "metadata": {},
   "outputs": [],
   "source": [
    "# Ruta al archivo CSV\n",
    "ruta_csv = r\"C:\\Users\\rafae\\MisCosas\\IMDB\\IMDB-Kaggle\\IMDB Dataset.csv\"\n",
    "\n",
    "# Cargar el archivo CSV en un DataFrame de pandas\n",
    "# Utilizamos 'chunk_size' si el archivo es muy grande para manejar en memoria\n",
    "try:\n",
    "    df = pd.read_csv(ruta_csv)\n",
    "except FileNotFoundError:\n",
    "    print(f\"El archivo no se encontró en la ruta especificada: {ruta_csv}\")\n",
    "    exit()"
   ]
  },
  {
   "cell_type": "code",
   "execution_count": 5,
   "metadata": {},
   "outputs": [],
   "source": [
    "# Función para determinar el sentimiento basado en el puntaje compuesto de VADER\n",
    "def obtener_sentimiento(texto):\n",
    "    puntajes = sia.polarity_scores(texto)\n",
    "    compuesto = puntajes['compound']\n",
    "    if compuesto >= 0.05:\n",
    "        return 'positive'\n",
    "    elif compuesto <= -0.05:\n",
    "        return 'negative'\n",
    "    else:\n",
    "        return 'neutral'"
   ]
  },
  {
   "cell_type": "code",
   "execution_count": 6,
   "metadata": {},
   "outputs": [
    {
     "name": "stdout",
     "output_type": "stream",
     "text": [
      "Analizando sentimientos...\n"
     ]
    },
    {
     "name": "stderr",
     "output_type": "stream",
     "text": [
      "100%|██████████| 50000/50000 [01:05<00:00, 768.59it/s]\n"
     ]
    }
   ],
   "source": [
    "# Aplicar la función de sentimiento a cada reseña\n",
    "# Utilizamos tqdm para mostrar una barra de progreso\n",
    "tqdm.pandas()\n",
    "\n",
    "print(\"Analizando sentimientos...\")\n",
    "df['sentiment_vader'] = df['review'].progress_apply(obtener_sentimiento)"
   ]
  },
  {
   "cell_type": "code",
   "execution_count": 7,
   "metadata": {},
   "outputs": [],
   "source": [
    "# Opcional: Comparar con la etiqueta original\n",
    "# Calcular precisión básica\n",
    "# Suponiendo que solo hay 'positive' y 'negative' en la etiqueta original. Vader también puede dar una clasificación 'neutral' \n",
    "# así que no se considera en la comparación.\n",
    "df['sentiment_vader_binary'] = df['sentiment_vader'].apply(\n",
    "    lambda x: 'positive' if x == 'positive' else 'negative'\n",
    ")"
   ]
  },
  {
   "cell_type": "code",
   "execution_count": 8,
   "metadata": {},
   "outputs": [
    {
     "name": "stdout",
     "output_type": "stream",
     "text": [
      "Resultados guardados en: C:\\Users\\rafae\\MisCosas\\IMDB\\IMDB-Kaggle\\IMDB_Dataset_Con_Sentimiento_VADER.csv\n"
     ]
    }
   ],
   "source": [
    "# Guardar los resultados en un nuevo archivo CSV\n",
    "ruta_salida = r\"C:\\Users\\rafae\\MisCosas\\IMDB\\IMDB-Kaggle\\IMDB_Dataset_Con_Sentimiento_VADER.csv\"\n",
    "df.to_csv(ruta_salida, index=False)\n",
    "print(f\"Resultados guardados en: {ruta_salida}\")"
   ]
  },
  {
   "cell_type": "code",
   "execution_count": 10,
   "metadata": {},
   "outputs": [],
   "source": [
    "# Convertir etiquetas a valores binarios si no lo están\n",
    "# Por ejemplo, 'positive' -> 1 y 'negative' -> 0\n",
    "df['sentiment_binary'] = df['sentiment'].map({'positive': 1, 'negative': 0})\n",
    "df['sentiment_vader_binary'] = df['sentiment_vader_binary'].map({'positive': 1, 'negative': 0})"
   ]
  },
  {
   "cell_type": "code",
   "execution_count": 12,
   "metadata": {},
   "outputs": [],
   "source": [
    "# Definir variables de etiquetas reales y predichas\n",
    "y_true = df['sentiment_binary']\n",
    "y_pred = df['sentiment_vader_binary']"
   ]
  },
  {
   "cell_type": "code",
   "execution_count": 13,
   "metadata": {},
   "outputs": [],
   "source": [
    "# Calcular precisión\n",
    "precision = precision_score(y_true, y_pred)\n",
    "\n",
    "# Calcular recall\n",
    "recall = recall_score(y_true, y_pred)\n",
    "\n",
    "# Calcular F1-score\n",
    "f1 = f1_score(y_true, y_pred)\n",
    "\n",
    "# Calcular exactitud\n",
    "exactitud = accuracy_score(y_true, y_pred)\n",
    "\n",
    "# Calcular matriz de confusión\n",
    "matriz_confusion = confusion_matrix(y_true, y_pred)"
   ]
  },
  {
   "cell_type": "code",
   "execution_count": 14,
   "metadata": {},
   "outputs": [
    {
     "name": "stdout",
     "output_type": "stream",
     "text": [
      "Precisión: 0.6505\n",
      "Recall: 0.8535\n",
      "F1-score: 0.7383\n",
      "Exactitud: 0.6974\n",
      "Matriz de Confusión:\n",
      "[[13534 11466]\n",
      " [ 3663 21337]]\n"
     ]
    }
   ],
   "source": [
    "# Mostrar los resultados\n",
    "print(f\"Precisión: {precision:.4f}\")\n",
    "print(f\"Recall: {recall:.4f}\")\n",
    "print(f\"F1-score: {f1:.4f}\")\n",
    "print(f\"Exactitud: {exactitud:.4f}\")\n",
    "print(\"Matriz de Confusión:\")\n",
    "print(matriz_confusion)\n"
   ]
  },
  {
   "cell_type": "code",
   "execution_count": 15,
   "metadata": {},
   "outputs": [
    {
     "name": "stdout",
     "output_type": "stream",
     "text": [
      "\n",
      "Reporte de Clasificación:\n",
      "              precision    recall  f1-score   support\n",
      "\n",
      "    Negative       0.79      0.54      0.64     25000\n",
      "    Positive       0.65      0.85      0.74     25000\n",
      "\n",
      "    accuracy                           0.70     50000\n",
      "   macro avg       0.72      0.70      0.69     50000\n",
      "weighted avg       0.72      0.70      0.69     50000\n",
      "\n"
     ]
    }
   ],
   "source": [
    "# Opcional: Mostrar reporte de clasificación completo\n",
    "reporte = classification_report(y_true, y_pred, target_names=['Negative', 'Positive'])\n",
    "print(\"\\nReporte de Clasificación:\")\n",
    "print(reporte)"
   ]
  }
 ],
 "metadata": {
  "kernelspec": {
   "display_name": "venv",
   "language": "python",
   "name": "python3"
  },
  "language_info": {
   "codemirror_mode": {
    "name": "ipython",
    "version": 3
   },
   "file_extension": ".py",
   "mimetype": "text/x-python",
   "name": "python",
   "nbconvert_exporter": "python",
   "pygments_lexer": "ipython3",
   "version": "3.10.0"
  }
 },
 "nbformat": 4,
 "nbformat_minor": 2
}
