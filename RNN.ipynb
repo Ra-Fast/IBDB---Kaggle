{
 "cells": [
  {
   "cell_type": "code",
   "execution_count": 1,
   "metadata": {},
   "outputs": [],
   "source": [
    "import os\n",
    "import pandas as pd\n",
    "import numpy as np\n",
    "from sklearn.model_selection import train_test_split, KFold\n",
    "from sklearn.metrics import precision_score, recall_score, f1_score, confusion_matrix\n",
    "import matplotlib.pyplot as plt\n",
    "\n",
    "import torch\n",
    "import torch.nn as nn\n",
    "from torch.utils.data import Dataset, DataLoader\n",
    "from torch.nn.utils.rnn import pack_padded_sequence, pad_packed_sequence\n",
    "\n",
    "from sklearn.preprocessing import LabelEncoder\n",
    "from torchtext.vocab import FastText\n"
   ]
  },
  {
   "cell_type": "markdown",
   "metadata": {},
   "source": [
    "## Preparación de los datos"
   ]
  },
  {
   "cell_type": "markdown",
   "metadata": {},
   "source": [
    "### Cargar dataset"
   ]
  },
  {
   "cell_type": "code",
   "execution_count": 2,
   "metadata": {},
   "outputs": [
    {
     "name": "stdout",
     "output_type": "stream",
     "text": [
      "Index(['review', 'sentiment'], dtype='object')\n",
      "(50000, 2)\n"
     ]
    }
   ],
   "source": [
    "# Cargar el dataset\n",
    "df = pd.read_csv('workspace/IMDB Dataset.csv')\n",
    "\n",
    "# Verificar las columnas y el tamaño\n",
    "print(df.columns)\n",
    "print(df.shape)\n"
   ]
  },
  {
   "cell_type": "markdown",
   "metadata": {},
   "source": [
    "### Preprocesamiento de texto"
   ]
  },
  {
   "cell_type": "code",
   "execution_count": 3,
   "metadata": {},
   "outputs": [],
   "source": [
    "import re\n",
    "from collections import defaultdict, Counter\n",
    "from sklearn.preprocessing import LabelEncoder\n",
    "\n",
    "def limpiar_texto(texto):\n",
    "    # Convertir a minúsculas\n",
    "    texto = texto.lower()\n",
    "    # Eliminar caracteres no alfabéticos\n",
    "    texto = re.sub(r'[^a-zA-Z\\s]', '', texto)\n",
    "    return texto\n",
    "\n",
    "df['review'] = df['review'].apply(limpiar_texto)\n",
    "\n",
    "# Tokenización simple\n",
    "df['tokens'] = df['review'].apply(lambda x: x.split())\n",
    "\n",
    "# Construir el vocabulario\n",
    "counter = Counter()\n",
    "for tokens in df['tokens']:\n",
    "    counter.update(tokens)\n",
    "\n",
    "# Definir el tamaño del vocabulario\n",
    "vocab_size = 20000  # Puedes ajustar este valor\n",
    "\n",
    "# Palabras más comunes\n",
    "vocab = ['<PAD>', '<UNK>'] + [word for word, freq in counter.most_common(vocab_size - 2)]\n",
    "\n",
    "# Mapeo de palabras a índices\n",
    "word_to_idx = {word: idx for idx, word in enumerate(vocab)}\n",
    "\n",
    "def tokens_a_indices(tokens, word_to_idx, max_len=500):\n",
    "    indices = [word_to_idx.get(token, word_to_idx['<UNK>']) for token in tokens]\n",
    "    if len(indices) < max_len:\n",
    "        indices += [word_to_idx['<PAD>']] * (max_len - len(indices))\n",
    "    else:\n",
    "        indices = indices[:max_len]\n",
    "    return indices\n",
    "\n",
    "df['input'] = df['tokens'].apply(lambda x: tokens_a_indices(x, word_to_idx))\n",
    "\n",
    "le = LabelEncoder()\n",
    "df['label'] = le.fit_transform(df['sentiment'])  # positive:1, negative:0\n"
   ]
  },
  {
   "cell_type": "markdown",
   "metadata": {},
   "source": [
    "## Preparar la matriz de embeddings"
   ]
  },
  {
   "cell_type": "code",
   "execution_count": 6,
   "metadata": {},
   "outputs": [],
   "source": [
    "# Inicializar FastText\n",
    "fasttext = FastText(language='en')\n",
    "\n",
    "# Supongamos que ya tienes definido vocab y vocab_size\n",
    "embedding_dim = fasttext.dim  # Obtiene la dimensión de los embeddings de FastText\n",
    "embedding_matrix = np.zeros((vocab_size, embedding_dim))\n",
    "\n",
    "for i, word in enumerate(vocab):\n",
    "    if word in fasttext.stoi:\n",
    "        embedding_matrix[i] = fasttext[word]\n",
    "    else:\n",
    "        embedding_matrix[i] = np.random.normal(scale=0.6, size=(embedding_dim, ))"
   ]
  },
  {
   "cell_type": "markdown",
   "metadata": {},
   "source": [
    "### División del dataset"
   ]
  },
  {
   "cell_type": "code",
   "execution_count": 7,
   "metadata": {},
   "outputs": [],
   "source": [
    "train_df, test_df = train_test_split(df, test_size=0.1, random_state=42, stratify=df['label'])"
   ]
  },
  {
   "cell_type": "markdown",
   "metadata": {},
   "source": [
    "## Definir el modelo con embeddings preetrenados"
   ]
  },
  {
   "cell_type": "code",
   "execution_count": 8,
   "metadata": {},
   "outputs": [],
   "source": [
    "class RNNClassifier(nn.Module):\n",
    "    def __init__(self, vocab_size, embedding_dim, hidden_dim, output_dim, n_layers, dropout, embedding_matrix):\n",
    "        super(RNNClassifier, self).__init__()\n",
    "        \n",
    "        self.embedding = nn.Embedding(vocab_size, embedding_dim)\n",
    "        self.embedding.weight = nn.Parameter(torch.tensor(embedding_matrix, dtype=torch.float32))\n",
    "        self.embedding.weight.requires_grad = False  # Establecer en False para no entrenar los embeddings\n",
    "        \n",
    "        self.lstm = nn.LSTM(embedding_dim, hidden_dim, num_layers=n_layers, dropout=dropout, batch_first=True)\n",
    "        self.fc = nn.Linear(hidden_dim, output_dim)\n",
    "        self.dropout = nn.Dropout(dropout)\n",
    "        \n",
    "    def forward(self, x):\n",
    "        embedded = self.embedding(x)\n",
    "        lstm_out, (hidden, cell) = self.lstm(embedded)\n",
    "        out = self.dropout(hidden[-1])\n",
    "        out = self.fc(out)\n",
    "        return out\n"
   ]
  },
  {
   "cell_type": "markdown",
   "metadata": {},
   "source": [
    "## Inicializar y entrenar el modelo"
   ]
  },
  {
   "cell_type": "code",
   "execution_count": 19,
   "metadata": {},
   "outputs": [],
   "source": [
    "class IMDBDataset(Dataset):\n",
    "    def __init__(self, dataframe):\n",
    "        self.inputs = dataframe['input'].tolist()\n",
    "        self.labels = dataframe['label'].tolist()\n",
    "\n",
    "    def __len__(self):\n",
    "        return len(self.labels)\n",
    "\n",
    "    def __getitem__(self, idx):\n",
    "        return torch.tensor(self.inputs[idx], dtype=torch.long), torch.tensor(self.labels[idx], dtype=torch.float)\n"
   ]
  },
  {
   "cell_type": "code",
   "execution_count": 23,
   "metadata": {},
   "outputs": [],
   "source": [
    "# Parámetros del modelo\n",
    "hidden_dim = 256\n",
    "output_dim = 1\n",
    "n_layers = 2\n",
    "dropout = 0.5\n",
    "bidirectional = True\n",
    "dropout = 0.5\n",
    "batch_size = 64\n",
    "num_epochs = 10\n",
    "learning_rate = 1e-3\n",
    "\n",
    "model = RNNClassifier(vocab_size, embedding_dim, hidden_dim, output_dim, n_layers, dropout, embedding_matrix)\n",
    "\n",
    "# Definir la función de pérdida y el optimizador\n",
    "criterion = nn.BCEWithLogitsLoss()\n",
    "optimizer = torch.optim.Adam(model.parameters(), lr=1e-3)\n",
    "\n",
    "# Mover el modelo y la pérdida a la GPU si está disponible\n",
    "device = torch.device('cuda' if torch.cuda.is_available() else 'cpu')\n",
    "model = model.to(device)\n",
    "criterion = criterion.to(device)\n",
    "\n",
    "# Preparar los datos\n",
    "train_dataset = IMDBDataset(train_df)\n",
    "test_dataset = IMDBDataset(test_df)\n",
    "\n",
    "# K-Fold Cross Validation\n",
    "k_folds = 5\n",
    "kfold = KFold(n_splits=k_folds, shuffle=True, random_state=42)\n",
    "\n",
    "# Dispositivo\n",
    "device = torch.device('cuda' if torch.cuda.is_available() else 'cpu')\n"
   ]
  },
  {
   "cell_type": "markdown",
   "metadata": {},
   "source": [
    "## Entrenamiento del modelo"
   ]
  },
  {
   "cell_type": "markdown",
   "metadata": {},
   "source": [
    "## Función de entrenamiento y evaluación"
   ]
  },
  {
   "cell_type": "code",
   "execution_count": 21,
   "metadata": {},
   "outputs": [],
   "source": [
    "def train_epoch(model, dataloader, criterion, optimizer):\n",
    "    model.train()\n",
    "    epoch_loss = 0\n",
    "    epoch_acc = 0\n",
    "    for inputs, labels in dataloader:\n",
    "        inputs, labels = inputs.to(device), labels.to(device)\n",
    "        lengths = (inputs != word_to_idx['<PAD>']).sum(1)\n",
    "        optimizer.zero_grad()\n",
    "        predictions = model(inputs, lengths)\n",
    "        loss = criterion(predictions, labels)\n",
    "        rounded_preds = torch.round(predictions)\n",
    "        correct = (rounded_preds == labels).float()\n",
    "        acc = correct.sum() / len(correct)\n",
    "        loss.backward()\n",
    "        optimizer.step()\n",
    "        epoch_loss += loss.item()\n",
    "        epoch_acc += acc.item()\n",
    "    return epoch_loss / len(dataloader), epoch_acc / len(dataloader)\n",
    "\n",
    "def evaluate(model, dataloader, criterion):\n",
    "    model.eval()\n",
    "    epoch_loss = 0\n",
    "    epoch_acc = 0\n",
    "    with torch.no_grad():\n",
    "        for inputs, labels in dataloader:\n",
    "            inputs, labels = inputs.to(device), labels.to(device)\n",
    "            lengths = (inputs != word_to_idx['<PAD>']).sum(1)\n",
    "            predictions = model(inputs, lengths)\n",
    "            loss = criterion(predictions, labels)\n",
    "            rounded_preds = torch.round(predictions)\n",
    "            correct = (rounded_preds == labels).float()\n",
    "            acc = correct.sum() / len(correct)\n",
    "            epoch_loss += loss.item()\n",
    "            epoch_acc += acc.item()\n",
    "    return epoch_loss / len(dataloader), epoch_acc / len(dataloader)\n"
   ]
  },
  {
   "cell_type": "markdown",
   "metadata": {},
   "source": [
    "### Entrenamiento con K-fold"
   ]
  },
  {
   "cell_type": "code",
   "execution_count": 24,
   "metadata": {},
   "outputs": [
    {
     "name": "stdout",
     "output_type": "stream",
     "text": [
      "Fold 1\n"
     ]
    },
    {
     "ename": "NameError",
     "evalue": "name 'collate_fn' is not defined",
     "output_type": "error",
     "traceback": [
      "\u001b[0;31m---------------------------------------------------------------------------\u001b[0m",
      "\u001b[0;31mNameError\u001b[0m                                 Traceback (most recent call last)",
      "Cell \u001b[0;32mIn[24], line 11\u001b[0m\n\u001b[1;32m      8\u001b[0m val_subsampler \u001b[38;5;241m=\u001b[39m torch\u001b[38;5;241m.\u001b[39mutils\u001b[38;5;241m.\u001b[39mdata\u001b[38;5;241m.\u001b[39mSubset(train_dataset, val_ids)\n\u001b[1;32m     10\u001b[0m \u001b[38;5;66;03m# DataLoaders\u001b[39;00m\n\u001b[0;32m---> 11\u001b[0m train_loader \u001b[38;5;241m=\u001b[39m DataLoader(train_subsampler, batch_size\u001b[38;5;241m=\u001b[39mbatch_size, shuffle\u001b[38;5;241m=\u001b[39m\u001b[38;5;28;01mTrue\u001b[39;00m, collate_fn\u001b[38;5;241m=\u001b[39m\u001b[43mcollate_fn\u001b[49m)\n\u001b[1;32m     12\u001b[0m val_loader \u001b[38;5;241m=\u001b[39m DataLoader(val_subsampler, batch_size\u001b[38;5;241m=\u001b[39mbatch_size, shuffle\u001b[38;5;241m=\u001b[39m\u001b[38;5;28;01mFalse\u001b[39;00m, collate_fn\u001b[38;5;241m=\u001b[39mcollate_fn)\n\u001b[1;32m     14\u001b[0m \u001b[38;5;66;03m# Inicializar el modelo\u001b[39;00m\n",
      "\u001b[0;31mNameError\u001b[0m: name 'collate_fn' is not defined"
     ]
    }
   ],
   "source": [
    "fold_results = {}\n",
    "\n",
    "for fold, (train_ids, val_ids) in enumerate(kfold.split(train_dataset)):\n",
    "    print(f'Fold {fold+1}')\n",
    "    \n",
    "    # Subset para este fold\n",
    "    train_subsampler = torch.utils.data.Subset(train_dataset, train_ids)\n",
    "    val_subsampler = torch.utils.data.Subset(train_dataset, val_ids)\n",
    "    \n",
    "    # DataLoaders\n",
    "    train_loader = DataLoader(train_subsampler, batch_size=batch_size, shuffle=True, collate_fn=collate_fn)\n",
    "    val_loader = DataLoader(val_subsampler, batch_size=batch_size, shuffle=False, collate_fn=collate_fn)\n",
    "    \n",
    "    # Inicializar el modelo\n",
    "    model = RNNClassifier(vocab_size, embed_dim, hidden_dim, output_dim, n_layers, bidirectional, dropout)\n",
    "    model.to(device)\n",
    "    \n",
    "    # Definir la pérdida y el optimizador\n",
    "    criterion = nn.BCELoss()\n",
    "    optimizer = torch.optim.Adam(model.parameters(), lr=learning_rate)\n",
    "    \n",
    "    # Guardar pérdidas y precisiones\n",
    "    train_losses = []\n",
    "    train_accuracies = []\n",
    "    val_losses = []\n",
    "    val_accuracies = []\n",
    "    \n",
    "    # Entrenamiento por épocas\n",
    "    for epoch in range(num_epochs):\n",
    "        train_loss, train_acc = train_epoch(model, train_loader, criterion, optimizer)\n",
    "        val_loss, val_acc = evaluate(model, val_loader, criterion)\n",
    "        \n",
    "        train_losses.append(train_loss)\n",
    "        train_accuracies.append(train_acc)\n",
    "        val_losses.append(val_loss)\n",
    "        val_accuracies.append(val_acc)\n",
    "        \n",
    "        print(f'Epoch {epoch+1}:')\n",
    "        print(f'\\tTrain Loss: {train_loss:.4f} | Train Acc: {train_acc*100:.2f}%')\n",
    "        print(f'\\t Val. Loss: {val_loss:.4f} |  Val. Acc: {val_acc*100:.2f}%')\n",
    "    \n",
    "    # Guardar resultados del fold\n",
    "    fold_results[fold] = {\n",
    "        'train_losses': train_losses,\n",
    "        'train_accuracies': train_accuracies,\n",
    "        'val_losses': val_losses,\n",
    "        'val_accuracies': val_accuracies,\n",
    "        'model_state': model.state_dict()\n",
    "    }\n",
    "\n",
    "# Visualizar resultados promedio\n",
    "avg_train_losses = np.mean([fold_results[fold]['train_losses'] for fold in fold_results], axis=0)\n",
    "avg_val_losses = np.mean([fold_results[fold]['val_losses'] for fold in fold_results], axis=0)\n",
    "avg_train_acc = np.mean([fold_results[fold]['train_accuracies'] for fold in fold_results], axis=0)\n",
    "avg_val_acc = np.mean([fold_results[fold]['val_accuracies'] for fold in fold_results], axis=0)\n",
    "\n",
    "epochs_range = range(1, num_epochs+1)\n",
    "\n",
    "plt.figure(figsize=(12,5))\n",
    "plt.subplot(1,2,1)\n",
    "plt.plot(epochs_range, avg_train_losses, label='Train Loss')\n",
    "plt.plot(epochs_range, avg_val_losses, label='Validation Loss')\n",
    "plt.legend()\n",
    "plt.title('Pérdida por Época')\n",
    "\n",
    "plt.subplot(1,2,2)\n",
    "plt.plot(epochs_range, avg_train_acc, label='Train Acc')\n",
    "plt.plot(epochs_range, avg_val_acc, label='Validation Acc')\n",
    "plt.legend()\n",
    "plt.title('Precisión por Época')\n",
    "\n",
    "plt.show()\n"
   ]
  },
  {
   "cell_type": "code",
   "execution_count": 16,
   "metadata": {},
   "outputs": [
    {
     "ename": "NameError",
     "evalue": "name 'train_loader' is not defined",
     "output_type": "error",
     "traceback": [
      "\u001b[0;31m---------------------------------------------------------------------------\u001b[0m",
      "\u001b[0;31mNameError\u001b[0m                                 Traceback (most recent call last)",
      "Cell \u001b[0;32mIn[16], line 9\u001b[0m\n\u001b[1;32m      7\u001b[0m \u001b[38;5;66;03m# Entrenamiento por épocas\u001b[39;00m\n\u001b[1;32m      8\u001b[0m \u001b[38;5;28;01mfor\u001b[39;00m epoch \u001b[38;5;129;01min\u001b[39;00m \u001b[38;5;28mrange\u001b[39m(num_epochs):\n\u001b[0;32m----> 9\u001b[0m     train_loss, train_acc \u001b[38;5;241m=\u001b[39m train_epoch(model, \u001b[43mtrain_loader\u001b[49m, criterion, optimizer)\n\u001b[1;32m     10\u001b[0m     val_loss, val_acc \u001b[38;5;241m=\u001b[39m evaluate(model, val_loader, criterion)\n\u001b[1;32m     12\u001b[0m     train_losses\u001b[38;5;241m.\u001b[39mappend(train_loss)\n",
      "\u001b[0;31mNameError\u001b[0m: name 'train_loader' is not defined"
     ]
    }
   ],
   "source": [
    "# Guardar pérdidas y precisiones\n",
    "train_losses = []\n",
    "train_accuracies = []\n",
    "val_losses = []\n",
    "val_accuracies = []\n",
    "\n",
    "# Entrenamiento por épocas\n",
    "for epoch in range(num_epochs):\n",
    "    train_loss, train_acc = train_epoch(model, train_loader, criterion, optimizer)\n",
    "    val_loss, val_acc = evaluate(model, val_loader, criterion)\n",
    "\n",
    "    train_losses.append(train_loss)\n",
    "    train_accuracies.append(train_acc)\n",
    "    val_losses.append(val_loss)\n",
    "    val_accuracies.append(val_acc)\n",
    "\n",
    "    print(f'Epoch {epoch+1}:')\n",
    "    print(f'\\tTrain Loss: {train_loss:.4f} | Train Acc: {train_acc*100:.2f}%')\n",
    "    print(f'\\t Val. Loss: {val_loss:.4f} |  Val. Acc: {val_acc*100:.2f}%')\n",
    "\n",
    "    # Guardar resultados del fold\n",
    "fold_results[fold] = {\n",
    "    'train_losses': train_losses,\n",
    "    'train_accuracies': train_accuracies,\n",
    "    'val_losses': val_losses,\n",
    "    'val_accuracies': val_accuracies,\n",
    "    'model_state': model.state_dict()\n",
    "}\n",
    "\n",
    "# Visualizar resultados promedio\n",
    "avg_train_losses = np.mean([fold_results[fold]['train_losses'] for fold in fold_results], axis=0)\n",
    "avg_val_losses = np.mean([fold_results[fold]['val_losses'] for fold in fold_results], axis=0)\n",
    "avg_train_acc = np.mean([fold_results[fold]['train_accuracies'] for fold in fold_results], axis=0)\n",
    "avg_val_acc = np.mean([fold_results[fold]['val_accuracies'] for fold in fold_results], axis=0)\n",
    "\n",
    "epochs_range = range(1, num_epochs+1)\n",
    "\n",
    "plt.figure(figsize=(12,5))\n",
    "plt.subplot(1,2,1)\n",
    "plt.plot(epochs_range, avg_train_losses, label='Train Loss')\n",
    "plt.plot(epochs_range, avg_val_losses, label='Validation Loss')\n",
    "plt.legend()\n",
    "plt.title('Pérdida por Época')\n",
    "\n",
    "plt.subplot(1,2,2)\n",
    "plt.plot(epochs_range, avg_train_acc, label='Train Acc')\n",
    "plt.plot(epochs_range, avg_val_acc, label='Validation Acc')\n",
    "plt.legend()\n",
    "plt.title('Precisión por Época')\n",
    "\n",
    "plt.show()"
   ]
  },
  {
   "cell_type": "markdown",
   "metadata": {},
   "source": [
    "## Evaluación del conjunto de prueba"
   ]
  },
  {
   "cell_type": "markdown",
   "metadata": {},
   "source": [
    "### Selección del mejor K-fold"
   ]
  },
  {
   "cell_type": "code",
   "execution_count": null,
   "metadata": {},
   "outputs": [],
   "source": [
    "best_fold = 0\n",
    "best_model_state = fold_results[best_fold]['model_state']"
   ]
  },
  {
   "cell_type": "markdown",
   "metadata": {},
   "source": [
    "### Cargar el mejor modelo"
   ]
  },
  {
   "cell_type": "code",
   "execution_count": null,
   "metadata": {},
   "outputs": [],
   "source": [
    "# Inicializar el modelo y cargar el estado\n",
    "best_model = RNNClassifier(vocab_size, embed_dim, hidden_dim, output_dim, n_layers, bidirectional, dropout)\n",
    "best_model.load_state_dict(best_model_state)\n",
    "best_model.to(device)\n",
    "best_model.eval()"
   ]
  },
  {
   "cell_type": "markdown",
   "metadata": {},
   "source": [
    "### Crear dataloader de prueba"
   ]
  },
  {
   "cell_type": "code",
   "execution_count": null,
   "metadata": {},
   "outputs": [],
   "source": [
    "all_preds = []\n",
    "all_labels = []\n",
    "\n",
    "with torch.no_grad():\n",
    "    for inputs, labels in test_loader:\n",
    "        inputs, labels = inputs.to(device), labels.to(device)\n",
    "        lengths = (inputs != word_to_idx['<PAD>']).sum(1)\n",
    "        predictions = best_model(inputs, lengths)\n",
    "        rounded_preds = torch.round(predictions)\n",
    "        all_preds.extend(rounded_preds.cpu().numpy())\n",
    "        all_labels.extend(labels.cpu().numpy())\n",
    "\n",
    "# Cálculo de métricas\n",
    "precision = precision_score(all_labels, all_preds)\n",
    "recall = recall_score(all_labels, all_preds)\n",
    "f1 = f1_score(all_labels, all_preds)\n",
    "conf_matrix = confusion_matrix(all_labels, all_preds)\n",
    "\n",
    "print(f'Precisión: {precision:.4f}')\n",
    "print(f'Recall: {recall:.4f}')\n",
    "print(f'F1 Score: {f1:.4f}')\n",
    "print('Matriz de Confusión:')\n",
    "print(conf_matrix)"
   ]
  },
  {
   "cell_type": "markdown",
   "metadata": {},
   "source": [
    "### Visualización de la matriz de confisión"
   ]
  },
  {
   "cell_type": "code",
   "execution_count": null,
   "metadata": {},
   "outputs": [],
   "source": [
    "import seaborn as sns\n",
    "\n",
    "plt.figure(figsize=(6,4))\n",
    "sns.heatmap(conf_matrix, annot=True, fmt='d', cmap='Blues', xticklabels=le.classes_, yticklabels=le.classes_)\n",
    "plt.xlabel('Predicción')\n",
    "plt.ylabel('Etiqueta Verdadera')\n",
    "plt.title('Matriz de Confusión')\n",
    "plt.show()"
   ]
  }
 ],
 "metadata": {
  "kernelspec": {
   "display_name": "base",
   "language": "python",
   "name": "python3"
  },
  "language_info": {
   "codemirror_mode": {
    "name": "ipython",
    "version": 3
   },
   "file_extension": ".py",
   "mimetype": "text/x-python",
   "name": "python",
   "nbconvert_exporter": "python",
   "pygments_lexer": "ipython3",
   "version": "3.10.9"
  }
 },
 "nbformat": 4,
 "nbformat_minor": 2
}
